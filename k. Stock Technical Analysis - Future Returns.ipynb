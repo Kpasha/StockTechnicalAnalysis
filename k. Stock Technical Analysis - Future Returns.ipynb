{
 "cells": [
  {
   "cell_type": "markdown",
   "metadata": {},
   "source": [
    "# Stock Technical Analysis: Python Tutorial"
   ]
  },
  {
   "cell_type": "markdown",
   "metadata": {},
   "source": [
    "Future Returns\n",
    "\n",
    "Contact: andrewshamlet@gmail.com // @andrewshamlet"
   ]
  },
  {
   "cell_type": "markdown",
   "metadata": {},
   "source": [
    "Python streamlines tasks requiring multiple steps in a single block of code. For this reason, it is a great tool for querying and performing analysis on data."
   ]
  },
  {
   "cell_type": "markdown",
   "metadata": {},
   "source": [
    "Last Tutorial, we outlined steps for calculating the Stochastic Oscillator."
   ]
  },
  {
   "cell_type": "markdown",
   "metadata": {},
   "source": [
    "In this Tutorial, we walk through calculating 5-day, 10-day, and 20-day future returns, from historical data."
   ]
  },
  {
   "cell_type": "markdown",
   "metadata": {},
   "source": [
    "Caculating 5-day, 10-day, and 20-day future returns will allow us to identify relationships between current technical indicators and future returns. "
   ]
  },
  {
   "cell_type": "markdown",
   "metadata": {},
   "source": [
    "Let’s use Python to compute the 5-day, 10-day, and 20-day future returns. "
   ]
  },
  {
   "cell_type": "markdown",
   "metadata": {},
   "source": [
    "1.) Import modules."
   ]
  },
  {
   "cell_type": "code",
   "execution_count": 1,
   "metadata": {
    "collapsed": false
   },
   "outputs": [],
   "source": [
    "import pandas as pd\n",
    "import numpy as np\n",
    "from pandas_datareader import data as web\n",
    "import matplotlib.pyplot as plt\n",
    "%matplotlib inline"
   ]
  },
  {
   "cell_type": "markdown",
   "metadata": {},
   "source": [
    "2.) Define function for querying daily close."
   ]
  },
  {
   "cell_type": "code",
   "execution_count": 5,
   "metadata": {
    "collapsed": true
   },
   "outputs": [],
   "source": [
    "def get_stock(stock,start,end):\n",
    "     return web.DataReader(stock,'google',start,end)['Close']"
   ]
  },
  {
   "cell_type": "markdown",
   "metadata": {},
   "source": [
    "3.) Define function for calculating the 5-day future return."
   ]
  },
  {
   "cell_type": "code",
   "execution_count": 6,
   "metadata": {
    "collapsed": false
   },
   "outputs": [],
   "source": [
    "def fiveday(close):  \n",
    "    fiveday = ((close - close.shift(-5)) / close) * 100\n",
    "    return fiveday"
   ]
  },
  {
   "cell_type": "markdown",
   "metadata": {},
   "source": [
    "4.) Define function for calculating 10-day future return. "
   ]
  },
  {
   "cell_type": "code",
   "execution_count": 7,
   "metadata": {
    "collapsed": false
   },
   "outputs": [],
   "source": [
    "def tenday(close):  \n",
    "    tenday = ((close - close.shift(-10)) / close) * 100\n",
    "    return tenday"
   ]
  },
  {
   "cell_type": "markdown",
   "metadata": {},
   "source": [
    "5.) Define function for calculating 20-day future return."
   ]
  },
  {
   "cell_type": "code",
   "execution_count": 8,
   "metadata": {
    "collapsed": true
   },
   "outputs": [],
   "source": [
    "def twentyday(close):  \n",
    "    twentyday = ((close - close.shift(-10)) / close) * 100\n",
    "    return twentyday"
   ]
  },
  {
   "cell_type": "markdown",
   "metadata": {},
   "source": [
    "6.) Query daily close."
   ]
  },
  {
   "cell_type": "code",
   "execution_count": 9,
   "metadata": {
    "collapsed": true
   },
   "outputs": [],
   "source": [
    "df = pd.DataFrame(get_stock('FB', '1/1/2016', '12/31/2016'))"
   ]
  },
  {
   "cell_type": "markdown",
   "metadata": {},
   "source": [
    "7.) Run daily close through fiveday, tenday, and twentday functions. Save series to new columns in dataframe. "
   ]
  },
  {
   "cell_type": "code",
   "execution_count": 11,
   "metadata": {
    "collapsed": false
   },
   "outputs": [
    {
     "data": {
      "text/html": [
       "<div>\n",
       "<table border=\"1\" class=\"dataframe\">\n",
       "  <thead>\n",
       "    <tr style=\"text-align: right;\">\n",
       "      <th></th>\n",
       "      <th>Close</th>\n",
       "      <th>5 day</th>\n",
       "      <th>10 day</th>\n",
       "      <th>20 day</th>\n",
       "    </tr>\n",
       "    <tr>\n",
       "      <th>Date</th>\n",
       "      <th></th>\n",
       "      <th></th>\n",
       "      <th></th>\n",
       "      <th></th>\n",
       "    </tr>\n",
       "  </thead>\n",
       "  <tbody>\n",
       "    <tr>\n",
       "      <th>2016-12-09</th>\n",
       "      <td>119.68</td>\n",
       "      <td>-0.158757</td>\n",
       "      <td>2.013703</td>\n",
       "      <td>2.013703</td>\n",
       "    </tr>\n",
       "    <tr>\n",
       "      <th>2016-12-12</th>\n",
       "      <td>117.77</td>\n",
       "      <td>-1.248196</td>\n",
       "      <td>-0.203787</td>\n",
       "      <td>-0.203787</td>\n",
       "    </tr>\n",
       "    <tr>\n",
       "      <th>2016-12-13</th>\n",
       "      <td>120.31</td>\n",
       "      <td>1.014047</td>\n",
       "      <td>2.817721</td>\n",
       "      <td>2.817721</td>\n",
       "    </tr>\n",
       "    <tr>\n",
       "      <th>2016-12-14</th>\n",
       "      <td>120.21</td>\n",
       "      <td>0.973297</td>\n",
       "      <td>3.211047</td>\n",
       "      <td>3.211047</td>\n",
       "    </tr>\n",
       "    <tr>\n",
       "      <th>2016-12-15</th>\n",
       "      <td>120.57</td>\n",
       "      <td>2.629178</td>\n",
       "      <td>4.578253</td>\n",
       "      <td>4.578253</td>\n",
       "    </tr>\n",
       "  </tbody>\n",
       "</table>\n",
       "</div>"
      ],
      "text/plain": [
       "             Close     5 day    10 day    20 day\n",
       "Date                                            \n",
       "2016-12-09  119.68 -0.158757  2.013703  2.013703\n",
       "2016-12-12  117.77 -1.248196 -0.203787 -0.203787\n",
       "2016-12-13  120.31  1.014047  2.817721  2.817721\n",
       "2016-12-14  120.21  0.973297  3.211047  3.211047\n",
       "2016-12-15  120.57  2.629178  4.578253  4.578253"
      ]
     },
     "execution_count": 11,
     "metadata": {},
     "output_type": "execute_result"
    }
   ],
   "source": [
    "df['5 day'] = fiveday(df['Close'])\n",
    "df['10 day'] = tenday(df['Close'])\n",
    "df['20 day'] = twentyday(df['Close'])\n",
    "df = df.dropna()\n",
    "df.tail()"
   ]
  },
  {
   "cell_type": "markdown",
   "metadata": {},
   "source": [
    "8.) Plot average 5-day, 10-day, and 20-day future returns."
   ]
  },
  {
   "cell_type": "code",
   "execution_count": 28,
   "metadata": {
    "collapsed": false
   },
   "outputs": [
    {
     "data": {
      "text/plain": [
       "<matplotlib.axes._subplots.AxesSubplot at 0x1160bd810>"
      ]
     },
     "execution_count": 28,
     "metadata": {},
     "output_type": "execute_result"
    },
    {
     "data": {
      "image/png": "[encoded data removed]",
      "text/plain": [
       "<matplotlib.figure.Figure at 0x11676aed0>"
      ]
     },
     "metadata": {},
     "output_type": "display_data"
    }
   ],
   "source": [
    "df2 = df[['5 day', '10 day', '20 day']].mean()\n",
    "df2.plot(kind='bar')"
   ]
  },
  {
   "cell_type": "markdown",
   "metadata": {},
   "source": [
    "There you have it! We calculated 5-day, 10-day, and 20-day future returns. Here’s the full code:"
   ]
  },
  {
   "cell_type": "code",
   "execution_count": 12,
   "metadata": {
    "collapsed": false
   },
   "outputs": [
    {
     "data": {
      "text/html": [
       "<div>\n",
       "<table border=\"1\" class=\"dataframe\">\n",
       "  <thead>\n",
       "    <tr style=\"text-align: right;\">\n",
       "      <th></th>\n",
       "      <th>Close</th>\n",
       "      <th>5 day</th>\n",
       "      <th>10 day</th>\n",
       "      <th>20 day</th>\n",
       "    </tr>\n",
       "    <tr>\n",
       "      <th>Date</th>\n",
       "      <th></th>\n",
       "      <th></th>\n",
       "      <th></th>\n",
       "      <th></th>\n",
       "    </tr>\n",
       "  </thead>\n",
       "  <tbody>\n",
       "    <tr>\n",
       "      <th>2016-12-09</th>\n",
       "      <td>119.68</td>\n",
       "      <td>-0.158757</td>\n",
       "      <td>2.013703</td>\n",
       "      <td>2.013703</td>\n",
       "    </tr>\n",
       "    <tr>\n",
       "      <th>2016-12-12</th>\n",
       "      <td>117.77</td>\n",
       "      <td>-1.248196</td>\n",
       "      <td>-0.203787</td>\n",
       "      <td>-0.203787</td>\n",
       "    </tr>\n",
       "    <tr>\n",
       "      <th>2016-12-13</th>\n",
       "      <td>120.31</td>\n",
       "      <td>1.014047</td>\n",
       "      <td>2.817721</td>\n",
       "      <td>2.817721</td>\n",
       "    </tr>\n",
       "    <tr>\n",
       "      <th>2016-12-14</th>\n",
       "      <td>120.21</td>\n",
       "      <td>0.973297</td>\n",
       "      <td>3.211047</td>\n",
       "      <td>3.211047</td>\n",
       "    </tr>\n",
       "    <tr>\n",
       "      <th>2016-12-15</th>\n",
       "      <td>120.57</td>\n",
       "      <td>2.629178</td>\n",
       "      <td>4.578253</td>\n",
       "      <td>4.578253</td>\n",
       "    </tr>\n",
       "  </tbody>\n",
       "</table>\n",
       "</div>"
      ],
      "text/plain": [
       "             Close     5 day    10 day    20 day\n",
       "Date                                            \n",
       "2016-12-09  119.68 -0.158757  2.013703  2.013703\n",
       "2016-12-12  117.77 -1.248196 -0.203787 -0.203787\n",
       "2016-12-13  120.31  1.014047  2.817721  2.817721\n",
       "2016-12-14  120.21  0.973297  3.211047  3.211047\n",
       "2016-12-15  120.57  2.629178  4.578253  4.578253"
      ]
     },
     "execution_count": 12,
     "metadata": {},
     "output_type": "execute_result"
    }
   ],
   "source": [
    "import pandas as pd\n",
    "import numpy as np\n",
    "from pandas_datareader import data as web\n",
    "import matplotlib.pyplot as plt\n",
    "%matplotlib inline\n",
    "\n",
    "def get_stock(stock,start,end):\n",
    "     return web.DataReader(stock,'google',start,end)['Close']\n",
    "    \n",
    "def fiveday(close):  \n",
    "    fiveday = ((close - close.shift(-5)) / close) * 100\n",
    "    return fiveday\n",
    "\n",
    "def tenday(close):  \n",
    "    tenday = ((close - close.shift(-10)) / close) * 100\n",
    "    return tenday\n",
    "\n",
    "def twentyday(close):  \n",
    "    twentyday = ((close - close.shift(-10)) / close) * 100\n",
    "    return twentyday\n",
    "\n",
    "df = pd.DataFrame(get_stock('FB', '1/1/2016', '12/31/2016'))\n",
    "df['5 day'] = fiveday(df['Close'])\n",
    "df['10 day'] = tenday(df['Close'])\n",
    "df['20 day'] = twentyday(df['Close'])\n",
    "df = df.dropna()\n",
    "df.tail()"
   ]
  }
 ],
 "metadata": {
  "anaconda-cloud": {},
  "kernelspec": {
   "display_name": "Python [conda root]",
   "language": "python",
   "name": "conda-root-py"
  },
  "language_info": {
   "codemirror_mode": {
    "name": "ipython",
    "version": 2
   },
   "file_extension": ".py",
   "mimetype": "text/x-python",
   "name": "python",
   "nbconvert_exporter": "python",
   "pygments_lexer": "ipython2",
   "version": "2.7.12"
  }
 },
 "nbformat": 4,
 "nbformat_minor": 1
}
